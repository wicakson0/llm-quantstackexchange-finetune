{
 "cells": [
  {
   "cell_type": "markdown",
   "id": "b11d858c",
   "metadata": {},
   "source": [
    "# Fine-Tuning TinyLlama_v1.1_math_code on Quantitative Finance StackExchange Dataset"
   ]
  },
  {
   "cell_type": "markdown",
   "id": "d68728e0",
   "metadata": {},
   "source": [
    "## Library Imports"
   ]
  },
  {
   "cell_type": "code",
   "execution_count": 38,
   "id": "50aad1ef",
   "metadata": {},
   "outputs": [],
   "source": [
    "import os\n",
    "import pandas as pd\n",
    "import numpy as np\n",
    "from datasets import load_dataset\n",
    "from sklearn.model_selection import train_test_split"
   ]
  },
  {
   "cell_type": "markdown",
   "id": "7a3b0d5c",
   "metadata": {},
   "source": [
    "## Settings"
   ]
  },
  {
   "cell_type": "code",
   "execution_count": 3,
   "id": "f28d411e",
   "metadata": {},
   "outputs": [],
   "source": [
    "# override default Huggingface Cache Location (C: drive)\n",
    "os.environ['HF_HUB_CACHE'] = '../../models/.HF_HUB_CACHE'"
   ]
  },
  {
   "cell_type": "code",
   "execution_count": 50,
   "id": "bd861c20",
   "metadata": {},
   "outputs": [],
   "source": [
    "RANDOM_STATE = 7\n",
    "TRAIN_PROP_1 = 0.9\n",
    "TRAIN_PROP_2 = 0.9"
   ]
  },
  {
   "cell_type": "markdown",
   "id": "6c7be962",
   "metadata": {},
   "source": [
    "## Clean and Format Data"
   ]
  },
  {
   "cell_type": "code",
   "execution_count": 5,
   "id": "2ffa2625",
   "metadata": {},
   "outputs": [
    {
     "name": "stderr",
     "output_type": "stream",
     "text": [
      "Downloading readme: 100%|██████████| 1.05k/1.05k [00:00<?, ?B/s]\n",
      "Downloading data: 100%|██████████| 29.6M/29.6M [00:04<00:00, 6.71MB/s]\n",
      "Generating train split: 100%|██████████| 46554/46554 [00:00<00:00, 282667.51 examples/s]\n"
     ]
    }
   ],
   "source": [
    "quant_SE = load_dataset('theblackcat102/quant-stackexchange-posts')"
   ]
  },
  {
   "cell_type": "code",
   "execution_count": 7,
   "id": "b1fd2eec",
   "metadata": {},
   "outputs": [
    {
     "data": {
      "text/html": [
       "<div>\n",
       "<style scoped>\n",
       "    .dataframe tbody tr th:only-of-type {\n",
       "        vertical-align: middle;\n",
       "    }\n",
       "\n",
       "    .dataframe tbody tr th {\n",
       "        vertical-align: top;\n",
       "    }\n",
       "\n",
       "    .dataframe thead th {\n",
       "        text-align: right;\n",
       "    }\n",
       "</style>\n",
       "<table border=\"1\" class=\"dataframe\">\n",
       "  <thead>\n",
       "    <tr style=\"text-align: right;\">\n",
       "      <th></th>\n",
       "      <th>Id</th>\n",
       "      <th>PostTypeId</th>\n",
       "      <th>AcceptedAnswerId</th>\n",
       "      <th>ParentId</th>\n",
       "      <th>Score</th>\n",
       "      <th>ViewCount</th>\n",
       "      <th>Body</th>\n",
       "      <th>Title</th>\n",
       "      <th>ContentLicense</th>\n",
       "      <th>FavoriteCount</th>\n",
       "      <th>CreationDate</th>\n",
       "      <th>LastActivityDate</th>\n",
       "      <th>LastEditDate</th>\n",
       "      <th>LastEditorUserId</th>\n",
       "      <th>OwnerUserId</th>\n",
       "      <th>Tags</th>\n",
       "    </tr>\n",
       "  </thead>\n",
       "  <tbody>\n",
       "    <tr>\n",
       "      <th>0</th>\n",
       "      <td>1</td>\n",
       "      <td>1</td>\n",
       "      <td>None</td>\n",
       "      <td>None</td>\n",
       "      <td>26</td>\n",
       "      <td>5651</td>\n",
       "      <td>To get the ball rolling... I will answer this ...</td>\n",
       "      <td>What are some good technical and non-technical...</td>\n",
       "      <td>CC BY-SA 2.5</td>\n",
       "      <td>None</td>\n",
       "      <td>2011-01-31T21:02:03.567</td>\n",
       "      <td>2011-01-31T21:39:02.880</td>\n",
       "      <td>2011-01-31T21:13:15.943</td>\n",
       "      <td>23</td>\n",
       "      <td>6</td>\n",
       "      <td>[learning, finance, books, quantitative, analy...</td>\n",
       "    </tr>\n",
       "    <tr>\n",
       "      <th>1</th>\n",
       "      <td>2</td>\n",
       "      <td>2</td>\n",
       "      <td>None</td>\n",
       "      <td>1</td>\n",
       "      <td>6</td>\n",
       "      <td>None</td>\n",
       "      <td>I like Statistics and Data Analysis for Financ...</td>\n",
       "      <td>None</td>\n",
       "      <td>CC BY-SA 2.5</td>\n",
       "      <td>None</td>\n",
       "      <td>2011-01-31T21:05:44.007</td>\n",
       "      <td>2011-01-31T21:05:44.007</td>\n",
       "      <td>None</td>\n",
       "      <td>None</td>\n",
       "      <td>33</td>\n",
       "      <td>None</td>\n",
       "    </tr>\n",
       "    <tr>\n",
       "      <th>2</th>\n",
       "      <td>3</td>\n",
       "      <td>1</td>\n",
       "      <td>None</td>\n",
       "      <td>None</td>\n",
       "      <td>12</td>\n",
       "      <td>1800</td>\n",
       "      <td>I want to start learning quantitative finance,...</td>\n",
       "      <td>What blogs or articles online should I read to...</td>\n",
       "      <td>CC BY-SA 2.5</td>\n",
       "      <td>None</td>\n",
       "      <td>2011-01-31T21:07:18.193</td>\n",
       "      <td>2011-01-31T21:53:08.947</td>\n",
       "      <td>2017-04-13T12:46:23.000</td>\n",
       "      <td>-1</td>\n",
       "      <td>27</td>\n",
       "      <td>[learning, finance]</td>\n",
       "    </tr>\n",
       "    <tr>\n",
       "      <th>3</th>\n",
       "      <td>4</td>\n",
       "      <td>2</td>\n",
       "      <td>None</td>\n",
       "      <td>1</td>\n",
       "      <td>5</td>\n",
       "      <td>None</td>\n",
       "      <td>John C. Hull's [\"Options, Futures, and \\nOther...</td>\n",
       "      <td>None</td>\n",
       "      <td>CC BY-SA 2.5</td>\n",
       "      <td>None</td>\n",
       "      <td>2011-01-31T21:08:35.820</td>\n",
       "      <td>2011-01-31T21:08:35.820</td>\n",
       "      <td>None</td>\n",
       "      <td>None</td>\n",
       "      <td>17</td>\n",
       "      <td>None</td>\n",
       "    </tr>\n",
       "    <tr>\n",
       "      <th>4</th>\n",
       "      <td>5</td>\n",
       "      <td>1</td>\n",
       "      <td>120</td>\n",
       "      <td>None</td>\n",
       "      <td>19</td>\n",
       "      <td>899</td>\n",
       "      <td>How do you model concentration risk of credit ...</td>\n",
       "      <td>Concentration risk in credit portfolio</td>\n",
       "      <td>CC BY-SA 2.5</td>\n",
       "      <td>None</td>\n",
       "      <td>2011-01-31T21:08:50.550</td>\n",
       "      <td>2014-07-16T15:52:43.620</td>\n",
       "      <td>2011-02-01T16:53:40.297</td>\n",
       "      <td>40</td>\n",
       "      <td>40</td>\n",
       "      <td>[risk, credit]</td>\n",
       "    </tr>\n",
       "  </tbody>\n",
       "</table>\n",
       "</div>"
      ],
      "text/plain": [
       "  Id PostTypeId  ... OwnerUserId                                               Tags\n",
       "0  1          1  ...           6  [learning, finance, books, quantitative, analy...\n",
       "1  2          2  ...          33                                               None\n",
       "2  3          1  ...          27                                [learning, finance]\n",
       "3  4          2  ...          17                                               None\n",
       "4  5          1  ...          40                                     [risk, credit]\n",
       "\n",
       "[5 rows x 16 columns]"
      ]
     },
     "execution_count": 7,
     "metadata": {},
     "output_type": "execute_result"
    }
   ],
   "source": [
    "quant_SE.set_format(type='pandas')\n",
    "quant_SE_df = quant_SE['train'][:]\n",
    "quant_SE_df.head()"
   ]
  },
  {
   "cell_type": "code",
   "execution_count": 13,
   "id": "a19c745f",
   "metadata": {},
   "outputs": [],
   "source": [
    "quant_SE_df.to_csv('data/raw/theblackcat102-quant-stackexchange-posts.csv', index = False)"
   ]
  },
  {
   "cell_type": "code",
   "execution_count": 24,
   "id": "c2d94492",
   "metadata": {},
   "outputs": [
    {
     "data": {
      "text/plain": [
       "0    To get the ball rolling... I will answer this ...\n",
       "1    I like Statistics and Data Analysis for Financ...\n",
       "2    I want to start learning quantitative finance,...\n",
       "3    John C. Hull's [\"Options, Futures, and \\nOther...\n",
       "4    How do you model concentration risk of credit ...\n",
       "Name: Body, dtype: object"
      ]
     },
     "execution_count": 24,
     "metadata": {},
     "output_type": "execute_result"
    }
   ],
   "source": [
    "quant_SE_clean = quant_SE_df.loc[:,\"Body\"]\n",
    "quant_SE_clean.head()"
   ]
  },
  {
   "cell_type": "code",
   "execution_count": 27,
   "id": "74dda912",
   "metadata": {},
   "outputs": [
    {
     "data": {
      "text/plain": [
       "False"
      ]
     },
     "execution_count": 27,
     "metadata": {},
     "output_type": "execute_result"
    }
   ],
   "source": [
    "isinstance(quant_SE_clean, pd.DataFrame)"
   ]
  },
  {
   "cell_type": "code",
   "execution_count": 28,
   "id": "15b17b9e",
   "metadata": {},
   "outputs": [
    {
     "data": {
      "text/html": [
       "<div>\n",
       "<style scoped>\n",
       "    .dataframe tbody tr th:only-of-type {\n",
       "        vertical-align: middle;\n",
       "    }\n",
       "\n",
       "    .dataframe tbody tr th {\n",
       "        vertical-align: top;\n",
       "    }\n",
       "\n",
       "    .dataframe thead th {\n",
       "        text-align: right;\n",
       "    }\n",
       "</style>\n",
       "<table border=\"1\" class=\"dataframe\">\n",
       "  <thead>\n",
       "    <tr style=\"text-align: right;\">\n",
       "      <th></th>\n",
       "      <th>Body</th>\n",
       "    </tr>\n",
       "  </thead>\n",
       "  <tbody>\n",
       "    <tr>\n",
       "      <th>0</th>\n",
       "      <td>To get the ball rolling... I will answer this ...</td>\n",
       "    </tr>\n",
       "    <tr>\n",
       "      <th>1</th>\n",
       "      <td>I like Statistics and Data Analysis for Financ...</td>\n",
       "    </tr>\n",
       "    <tr>\n",
       "      <th>2</th>\n",
       "      <td>I want to start learning quantitative finance,...</td>\n",
       "    </tr>\n",
       "    <tr>\n",
       "      <th>3</th>\n",
       "      <td>John C. Hull's [\"Options, Futures, and \\nOther...</td>\n",
       "    </tr>\n",
       "    <tr>\n",
       "      <th>4</th>\n",
       "      <td>How do you model concentration risk of credit ...</td>\n",
       "    </tr>\n",
       "  </tbody>\n",
       "</table>\n",
       "</div>"
      ],
      "text/plain": [
       "                                                Body\n",
       "0  To get the ball rolling... I will answer this ...\n",
       "1  I like Statistics and Data Analysis for Financ...\n",
       "2  I want to start learning quantitative finance,...\n",
       "3  John C. Hull's [\"Options, Futures, and \\nOther...\n",
       "4  How do you model concentration risk of credit ..."
      ]
     },
     "execution_count": 28,
     "metadata": {},
     "output_type": "execute_result"
    }
   ],
   "source": [
    "quant_SE_clean = pd.DataFrame(quant_SE_clean)\n",
    "quant_SE_clean.head()"
   ]
  },
  {
   "cell_type": "code",
   "execution_count": 35,
   "id": "03ec1b03",
   "metadata": {},
   "outputs": [
    {
     "data": {
      "text/html": [
       "<div>\n",
       "<style scoped>\n",
       "    .dataframe tbody tr th:only-of-type {\n",
       "        vertical-align: middle;\n",
       "    }\n",
       "\n",
       "    .dataframe tbody tr th {\n",
       "        vertical-align: top;\n",
       "    }\n",
       "\n",
       "    .dataframe thead th {\n",
       "        text-align: right;\n",
       "    }\n",
       "</style>\n",
       "<table border=\"1\" class=\"dataframe\">\n",
       "  <thead>\n",
       "    <tr style=\"text-align: right;\">\n",
       "      <th></th>\n",
       "      <th>text</th>\n",
       "    </tr>\n",
       "  </thead>\n",
       "  <tbody>\n",
       "    <tr>\n",
       "      <th>0</th>\n",
       "      <td>To get the ball rolling... I will answer this ...</td>\n",
       "    </tr>\n",
       "    <tr>\n",
       "      <th>1</th>\n",
       "      <td>I like Statistics and Data Analysis for Financ...</td>\n",
       "    </tr>\n",
       "    <tr>\n",
       "      <th>2</th>\n",
       "      <td>I want to start learning quantitative finance,...</td>\n",
       "    </tr>\n",
       "    <tr>\n",
       "      <th>3</th>\n",
       "      <td>John C. Hull's [\"Options, Futures, and \\nOther...</td>\n",
       "    </tr>\n",
       "    <tr>\n",
       "      <th>4</th>\n",
       "      <td>How do you model concentration risk of credit ...</td>\n",
       "    </tr>\n",
       "  </tbody>\n",
       "</table>\n",
       "</div>"
      ],
      "text/plain": [
       "                                                text\n",
       "0  To get the ball rolling... I will answer this ...\n",
       "1  I like Statistics and Data Analysis for Financ...\n",
       "2  I want to start learning quantitative finance,...\n",
       "3  John C. Hull's [\"Options, Futures, and \\nOther...\n",
       "4  How do you model concentration risk of credit ..."
      ]
     },
     "execution_count": 35,
     "metadata": {},
     "output_type": "execute_result"
    }
   ],
   "source": [
    "quant_SE_clean = quant_SE_clean.rename(columns={\"Body\": \"text\"})\n",
    "quant_SE_clean.head()"
   ]
  },
  {
   "cell_type": "code",
   "execution_count": 36,
   "id": "360d1a4d",
   "metadata": {},
   "outputs": [
    {
     "data": {
      "text/html": [
       "<div>\n",
       "<style scoped>\n",
       "    .dataframe tbody tr th:only-of-type {\n",
       "        vertical-align: middle;\n",
       "    }\n",
       "\n",
       "    .dataframe tbody tr th {\n",
       "        vertical-align: top;\n",
       "    }\n",
       "\n",
       "    .dataframe thead th {\n",
       "        text-align: right;\n",
       "    }\n",
       "</style>\n",
       "<table border=\"1\" class=\"dataframe\">\n",
       "  <thead>\n",
       "    <tr style=\"text-align: right;\">\n",
       "      <th></th>\n",
       "      <th>text</th>\n",
       "    </tr>\n",
       "  </thead>\n",
       "  <tbody>\n",
       "    <tr>\n",
       "      <th>0</th>\n",
       "      <td>To get the ball rolling... I will answer this ...</td>\n",
       "    </tr>\n",
       "    <tr>\n",
       "      <th>1</th>\n",
       "      <td>I like Statistics and Data Analysis for Financ...</td>\n",
       "    </tr>\n",
       "    <tr>\n",
       "      <th>2</th>\n",
       "      <td>I want to start learning quantitative finance,...</td>\n",
       "    </tr>\n",
       "    <tr>\n",
       "      <th>3</th>\n",
       "      <td>John C. Hull's [\"Options, Futures, and \\nOther...</td>\n",
       "    </tr>\n",
       "    <tr>\n",
       "      <th>4</th>\n",
       "      <td>How do you model concentration risk of credit ...</td>\n",
       "    </tr>\n",
       "  </tbody>\n",
       "</table>\n",
       "</div>"
      ],
      "text/plain": [
       "                                                text\n",
       "0  To get the ball rolling... I will answer this ...\n",
       "1  I like Statistics and Data Analysis for Financ...\n",
       "2  I want to start learning quantitative finance,...\n",
       "3  John C. Hull's [\"Options, Futures, and \\nOther...\n",
       "4  How do you model concentration risk of credit ..."
      ]
     },
     "execution_count": 36,
     "metadata": {},
     "output_type": "execute_result"
    }
   ],
   "source": [
    "quant_SE_clean = quant_SE_clean.dropna()\n",
    "quant_SE_clean.head()"
   ]
  },
  {
   "cell_type": "code",
   "execution_count": 37,
   "id": "a84eb5f4",
   "metadata": {},
   "outputs": [
    {
     "data": {
      "text/plain": [
       "(46554, 1)"
      ]
     },
     "execution_count": 37,
     "metadata": {},
     "output_type": "execute_result"
    }
   ],
   "source": [
    "quant_SE_clean.shape"
   ]
  },
  {
   "cell_type": "markdown",
   "id": "a0a52250",
   "metadata": {},
   "source": [
    "## Training-Testing Split"
   ]
  },
  {
   "cell_type": "code",
   "execution_count": 51,
   "id": "b5d6045d",
   "metadata": {},
   "outputs": [],
   "source": [
    "quant_SE_clean_train, quant_SE_clean_test = train_test_split(\n",
    "    quant_SE_clean,\n",
    "    random_state = RANDOM_STATE,\n",
    "    train_size = TRAIN_PROP_1\n",
    ")"
   ]
  },
  {
   "cell_type": "code",
   "execution_count": 52,
   "id": "23e144e8",
   "metadata": {},
   "outputs": [],
   "source": [
    "quant_SE_clean_training, quant_SE_clean_validation = train_test_split(\n",
    "    quant_SE_clean_train,\n",
    "    random_state = RANDOM_STATE,\n",
    "    train_size = TRAIN_PROP_2\n",
    ")"
   ]
  },
  {
   "cell_type": "code",
   "execution_count": 53,
   "id": "2ff0bfc6",
   "metadata": {},
   "outputs": [
    {
     "data": {
      "text/html": [
       "<div>\n",
       "<style scoped>\n",
       "    .dataframe tbody tr th:only-of-type {\n",
       "        vertical-align: middle;\n",
       "    }\n",
       "\n",
       "    .dataframe tbody tr th {\n",
       "        vertical-align: top;\n",
       "    }\n",
       "\n",
       "    .dataframe thead th {\n",
       "        text-align: right;\n",
       "    }\n",
       "</style>\n",
       "<table border=\"1\" class=\"dataframe\">\n",
       "  <thead>\n",
       "    <tr style=\"text-align: right;\">\n",
       "      <th></th>\n",
       "      <th>text</th>\n",
       "    </tr>\n",
       "  </thead>\n",
       "  <tbody>\n",
       "    <tr>\n",
       "      <th>17163</th>\n",
       "      <td>I have a multipart question about futures and ...</td>\n",
       "    </tr>\n",
       "    <tr>\n",
       "      <th>45846</th>\n",
       "      <td>How are SOFR implied vols calculated? Are they...</td>\n",
       "    </tr>\n",
       "    <tr>\n",
       "      <th>5010</th>\n",
       "      <td>the convention for most market makers of optio...</td>\n",
       "    </tr>\n",
       "    <tr>\n",
       "      <th>1566</th>\n",
       "      <td>I tried a search with google but I can't find ...</td>\n",
       "    </tr>\n",
       "    <tr>\n",
       "      <th>36389</th>\n",
       "      <td>Look at this thesis which provide algebra and ...</td>\n",
       "    </tr>\n",
       "  </tbody>\n",
       "</table>\n",
       "</div>"
      ],
      "text/plain": [
       "                                                    text\n",
       "17163  I have a multipart question about futures and ...\n",
       "45846  How are SOFR implied vols calculated? Are they...\n",
       "5010   the convention for most market makers of optio...\n",
       "1566   I tried a search with google but I can't find ...\n",
       "36389  Look at this thesis which provide algebra and ..."
      ]
     },
     "execution_count": 53,
     "metadata": {},
     "output_type": "execute_result"
    }
   ],
   "source": [
    "quant_SE_clean_test.head()"
   ]
  },
  {
   "cell_type": "code",
   "execution_count": 54,
   "id": "3e9ffaaa",
   "metadata": {},
   "outputs": [
    {
     "data": {
      "text/plain": [
       "(4656, 1)"
      ]
     },
     "execution_count": 54,
     "metadata": {},
     "output_type": "execute_result"
    }
   ],
   "source": [
    "quant_SE_clean_test.shape"
   ]
  },
  {
   "cell_type": "code",
   "execution_count": 55,
   "id": "ab55806c",
   "metadata": {},
   "outputs": [
    {
     "data": {
      "text/html": [
       "<div>\n",
       "<style scoped>\n",
       "    .dataframe tbody tr th:only-of-type {\n",
       "        vertical-align: middle;\n",
       "    }\n",
       "\n",
       "    .dataframe tbody tr th {\n",
       "        vertical-align: top;\n",
       "    }\n",
       "\n",
       "    .dataframe thead th {\n",
       "        text-align: right;\n",
       "    }\n",
       "</style>\n",
       "<table border=\"1\" class=\"dataframe\">\n",
       "  <thead>\n",
       "    <tr style=\"text-align: right;\">\n",
       "      <th></th>\n",
       "      <th>text</th>\n",
       "    </tr>\n",
       "  </thead>\n",
       "  <tbody>\n",
       "    <tr>\n",
       "      <th>13610</th>\n",
       "      <td>Let $P&gt;K$ and $r=0$.\\nThen you can short the p...</td>\n",
       "    </tr>\n",
       "    <tr>\n",
       "      <th>31921</th>\n",
       "      <td>I am constructing equity factors and I am give...</td>\n",
       "    </tr>\n",
       "    <tr>\n",
       "      <th>8894</th>\n",
       "      <td>I am reading a report which talks about season...</td>\n",
       "    </tr>\n",
       "    <tr>\n",
       "      <th>45890</th>\n",
       "      <td>Is it possible for a volatility surface $\\sigm...</td>\n",
       "    </tr>\n",
       "    <tr>\n",
       "      <th>9072</th>\n",
       "      <td>Assuming a set portfolio optimization problem,...</td>\n",
       "    </tr>\n",
       "  </tbody>\n",
       "</table>\n",
       "</div>"
      ],
      "text/plain": [
       "                                                    text\n",
       "13610  Let $P>K$ and $r=0$.\\nThen you can short the p...\n",
       "31921  I am constructing equity factors and I am give...\n",
       "8894   I am reading a report which talks about season...\n",
       "45890  Is it possible for a volatility surface $\\sigm...\n",
       "9072   Assuming a set portfolio optimization problem,..."
      ]
     },
     "execution_count": 55,
     "metadata": {},
     "output_type": "execute_result"
    }
   ],
   "source": [
    "quant_SE_clean_training.head()"
   ]
  },
  {
   "cell_type": "code",
   "execution_count": 56,
   "id": "6b1aff9e",
   "metadata": {},
   "outputs": [
    {
     "data": {
      "text/plain": [
       "(37708, 1)"
      ]
     },
     "execution_count": 56,
     "metadata": {},
     "output_type": "execute_result"
    }
   ],
   "source": [
    "quant_SE_clean_training.shape"
   ]
  },
  {
   "cell_type": "code",
   "execution_count": 57,
   "id": "5550e223",
   "metadata": {},
   "outputs": [
    {
     "data": {
      "text/html": [
       "<div>\n",
       "<style scoped>\n",
       "    .dataframe tbody tr th:only-of-type {\n",
       "        vertical-align: middle;\n",
       "    }\n",
       "\n",
       "    .dataframe tbody tr th {\n",
       "        vertical-align: top;\n",
       "    }\n",
       "\n",
       "    .dataframe thead th {\n",
       "        text-align: right;\n",
       "    }\n",
       "</style>\n",
       "<table border=\"1\" class=\"dataframe\">\n",
       "  <thead>\n",
       "    <tr style=\"text-align: right;\">\n",
       "      <th></th>\n",
       "      <th>text</th>\n",
       "    </tr>\n",
       "  </thead>\n",
       "  <tbody>\n",
       "    <tr>\n",
       "      <th>23313</th>\n",
       "      <td>From a mathematical perspective and under the ...</td>\n",
       "    </tr>\n",
       "    <tr>\n",
       "      <th>29093</th>\n",
       "      <td>On top of @Gordon answers which gives the math...</td>\n",
       "    </tr>\n",
       "    <tr>\n",
       "      <th>29763</th>\n",
       "      <td>If you apply a simulation Scheme (log-Euler di...</td>\n",
       "    </tr>\n",
       "    <tr>\n",
       "      <th>45925</th>\n",
       "      <td>The question mentions that 1 million Bernoulli...</td>\n",
       "    </tr>\n",
       "    <tr>\n",
       "      <th>7733</th>\n",
       "      <td>I have $\\frac{dS_t}{S_t} = rdt + \\sigma dW_t$ ...</td>\n",
       "    </tr>\n",
       "  </tbody>\n",
       "</table>\n",
       "</div>"
      ],
      "text/plain": [
       "                                                    text\n",
       "23313  From a mathematical perspective and under the ...\n",
       "29093  On top of @Gordon answers which gives the math...\n",
       "29763  If you apply a simulation Scheme (log-Euler di...\n",
       "45925  The question mentions that 1 million Bernoulli...\n",
       "7733   I have $\\frac{dS_t}{S_t} = rdt + \\sigma dW_t$ ..."
      ]
     },
     "execution_count": 57,
     "metadata": {},
     "output_type": "execute_result"
    }
   ],
   "source": [
    "quant_SE_clean_validation.head()"
   ]
  },
  {
   "cell_type": "code",
   "execution_count": 58,
   "id": "f31c7409",
   "metadata": {},
   "outputs": [
    {
     "data": {
      "text/plain": [
       "(4190, 1)"
      ]
     },
     "execution_count": 58,
     "metadata": {},
     "output_type": "execute_result"
    }
   ],
   "source": [
    "quant_SE_clean_validation.shape"
   ]
  },
  {
   "cell_type": "code",
   "execution_count": 59,
   "id": "4866bfc6",
   "metadata": {},
   "outputs": [],
   "source": [
    "quant_SE_clean_training.to_csv('data/prepped/quant_SE_clean_training.csv', index=False)\n",
    "quant_SE_clean_validation.to_csv('data/prepped/quant_SE_clean_validation.csv', index=False)\n",
    "quant_SE_clean_test.to_csv('data/prepped/quant_SE_clean_test.csv', index=False)"
   ]
  }
 ],
 "metadata": {
  "kernelspec": {
   "display_name": "Python 3",
   "language": "python",
   "name": "python3"
  },
  "language_info": {
   "codemirror_mode": {
    "name": "ipython",
    "version": 3
   },
   "file_extension": ".py",
   "mimetype": "text/x-python",
   "name": "python",
   "nbconvert_exporter": "python",
   "pygments_lexer": "ipython3",
   "version": "3.12.4"
  }
 },
 "nbformat": 4,
 "nbformat_minor": 5
}
